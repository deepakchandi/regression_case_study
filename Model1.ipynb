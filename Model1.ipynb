{
 "cells": [
  {
   "cell_type": "code",
   "execution_count": 70,
   "metadata": {},
   "outputs": [],
   "source": [
    "import numpy as np\n",
    "import pandas as pd\n",
    "import scipy.stats as sys\n",
    "from scipy.stats import spearmanr\n",
    "from scipy.stats import pearsonr"
   ]
  },
  {
   "cell_type": "code",
   "execution_count": 84,
   "metadata": {},
   "outputs": [
    {
     "name": "stderr",
     "output_type": "stream",
     "text": [
      "/Users/Chen/anaconda3/lib/python3.6/site-packages/IPython/core/interactiveshell.py:2785: DtypeWarning: Columns (13,39,40,41) have mixed types. Specify dtype option on import or set low_memory=False.\n",
      "  interactivity=interactivity, compiler=compiler, result=result)\n"
     ]
    }
   ],
   "source": [
    "data = pd.read_csv('data/train.zip')"
   ]
  },
  {
   "cell_type": "code",
   "execution_count": 85,
   "metadata": {},
   "outputs": [
    {
     "name": "stderr",
     "output_type": "stream",
     "text": [
      "/Users/Chen/anaconda3/lib/python3.6/site-packages/ipykernel_launcher.py:6: SettingWithCopyWarning: \n",
      "A value is trying to be set on a copy of a slice from a DataFrame\n",
      "\n",
      "See the caveats in the documentation: http://pandas.pydata.org/pandas-docs/stable/indexing.html#indexing-view-versus-copy\n",
      "  \n"
     ]
    },
    {
     "name": "stdout",
     "output_type": "stream",
     "text": [
      "<class 'pandas.core.frame.DataFrame'>\n",
      "Int64Index: 196498 entries, 0 to 401124\n",
      "Data columns (total 9 columns):\n",
      "SalePrice           196498 non-null int64\n",
      "datasource          196498 non-null int64\n",
      "state               196498 non-null object\n",
      "ProductGroup        196498 non-null object\n",
      "ProductGroupDesc    196498 non-null object\n",
      "Enclosure           196498 non-null object\n",
      "Hydraulics          196498 non-null object\n",
      "YearMade            196498 non-null int64\n",
      "SalesID             196498 non-null int64\n",
      "dtypes: int64(4), object(5)\n",
      "memory usage: 15.0+ MB\n"
     ]
    }
   ],
   "source": [
    "df = data[[\n",
    "    'SalePrice', 'datasource', 'fiModelDesc', 'fiBaseModel', 'fiSecondaryDesc', \n",
    "    'fiProductClassDesc', 'state', 'ProductGroup', 'ProductGroupDesc', \n",
    "    'Enclosure', 'Hydraulics', 'YearMade', 'SalesID'\n",
    "]]\n",
    "df.dropna(inplace=True)\n",
    "df.shape\n",
    "df = df[['SalePrice','datasource','state','ProductGroup', 'ProductGroupDesc',\n",
    "         'Enclosure', 'Hydraulics', 'YearMade', 'SalesID']]\n",
    "df = df[df['state'] != 'Unspecified']\n",
    "df = df[df['Hydraulics'] != 'None or Unspecified']\n",
    "df.info()"
   ]
  },
  {
   "cell_type": "code",
   "execution_count": 86,
   "metadata": {},
   "outputs": [],
   "source": [
    "state= pd.get_dummies(df['state'])\n",
    "df = df.merge(state, left_index = True, right_index = True)\n",
    "datasource= pd.get_dummies(df['datasource'])\n",
    "df = df.merge(datasource, left_index = True, right_index = True)\n",
    "ProductGroup = pd.get_dummies(df['ProductGroup'])\n",
    "df = df.merge(ProductGroup, left_index = True, right_index = True)\n",
    "ProductGroupDesc = pd.get_dummies(df['ProductGroupDesc'])\n",
    "df = df.merge(ProductGroupDesc, left_index = True, right_index = True)\n",
    "Enclosure = pd.get_dummies(df['Enclosure'])\n",
    "df = df.merge(Enclosure, left_index = True, right_index = True)\n",
    "Hydraulics = pd.get_dummies(df['Hydraulics'])\n",
    "df = df.merge(Hydraulics, left_index = True, right_index = True)"
   ]
  },
  {
   "cell_type": "code",
   "execution_count": 87,
   "metadata": {},
   "outputs": [],
   "source": [
    "df = df.drop('datasource', 1)\n",
    "df = df.drop('state', 1)\n",
    "df = df.drop('ProductGroup', 1)\n",
    "df = df.drop('ProductGroupDesc', 1)\n",
    "df = df.drop('Enclosure', 1)\n",
    "df = df.drop('Hydraulics', 1)\n",
    "# df.head()"
   ]
  },
  {
   "cell_type": "code",
   "execution_count": 88,
   "metadata": {},
   "outputs": [],
   "source": [
    "from sklearn import linear_model\n",
    "import statsmodels.api as sm"
   ]
  },
  {
   "cell_type": "markdown",
   "metadata": {},
   "source": [
    "Save columns"
   ]
  },
  {
   "cell_type": "code",
   "execution_count": 150,
   "metadata": {},
   "outputs": [],
   "source": [
    "train_columns = df.drop(['SalePrice'], axis=1).columns"
   ]
  },
  {
   "cell_type": "code",
   "execution_count": 151,
   "metadata": {},
   "outputs": [],
   "source": [
    "X = np.array(df.drop(['SalePrice', 'SalesID'], 1))\n",
    "y = np.array(df['SalePrice'])"
   ]
  },
  {
   "cell_type": "code",
   "execution_count": 152,
   "metadata": {},
   "outputs": [],
   "source": [
    "# simple_model = sm.OLS(y, X)\n",
    "# simple_results = simple_model.fit()\n",
    "# simple_results.summary()"
   ]
  },
  {
   "cell_type": "code",
   "execution_count": 153,
   "metadata": {},
   "outputs": [],
   "source": [
    "# simple_model.predict()"
   ]
  },
  {
   "cell_type": "code",
   "execution_count": 154,
   "metadata": {},
   "outputs": [],
   "source": [
    "from sklearn.linear_model import LinearRegression\n",
    "from sklearn.model_selection import train_test_split\n",
    "from sklearn.model_selection import cross_val_score"
   ]
  },
  {
   "cell_type": "code",
   "execution_count": 155,
   "metadata": {},
   "outputs": [],
   "source": [
    "X_train, X_test, y_train, y_test = train_test_split(X, y, test_size=0.33, random_state=42)"
   ]
  },
  {
   "cell_type": "code",
   "execution_count": 156,
   "metadata": {},
   "outputs": [],
   "source": [
    "lm = LinearRegression()"
   ]
  },
  {
   "cell_type": "code",
   "execution_count": 157,
   "metadata": {},
   "outputs": [
    {
     "data": {
      "text/plain": [
       "LinearRegression(copy_X=True, fit_intercept=True, n_jobs=1, normalize=False)"
      ]
     },
     "execution_count": 157,
     "metadata": {},
     "output_type": "execute_result"
    }
   ],
   "source": [
    "lm.fit(X_train, y_train)"
   ]
  },
  {
   "cell_type": "code",
   "execution_count": 158,
   "metadata": {},
   "outputs": [
    {
     "data": {
      "text/plain": [
       "0.320106460250959"
      ]
     },
     "execution_count": 158,
     "metadata": {},
     "output_type": "execute_result"
    }
   ],
   "source": [
    "cross_val_score(lm, X_train, y_train, cv=10).mean()"
   ]
  },
  {
   "cell_type": "code",
   "execution_count": 159,
   "metadata": {},
   "outputs": [
    {
     "data": {
      "text/plain": [
       "LinearRegression(copy_X=True, fit_intercept=True, n_jobs=1, normalize=False)"
      ]
     },
     "execution_count": 159,
     "metadata": {},
     "output_type": "execute_result"
    }
   ],
   "source": [
    "lm.fit(X, y)"
   ]
  },
  {
   "cell_type": "code",
   "execution_count": 160,
   "metadata": {},
   "outputs": [
    {
     "data": {
      "text/plain": [
       "(196498, 82)"
      ]
     },
     "execution_count": 160,
     "metadata": {},
     "output_type": "execute_result"
    }
   ],
   "source": [
    "X.shape"
   ]
  },
  {
   "cell_type": "markdown",
   "metadata": {},
   "source": [
    "## Test Model"
   ]
  },
  {
   "cell_type": "code",
   "execution_count": 199,
   "metadata": {},
   "outputs": [],
   "source": [
    "test_data = pd.read_csv('data/test.csv')"
   ]
  },
  {
   "cell_type": "code",
   "execution_count": 200,
   "metadata": {},
   "outputs": [
    {
     "name": "stdout",
     "output_type": "stream",
     "text": [
      "<class 'pandas.core.frame.DataFrame'>\n",
      "Int64Index: 6333 entries, 1 to 11572\n",
      "Data columns (total 8 columns):\n",
      "datasource          6333 non-null int64\n",
      "state               6333 non-null object\n",
      "ProductGroup        6333 non-null object\n",
      "ProductGroupDesc    6333 non-null object\n",
      "Enclosure           6333 non-null object\n",
      "Hydraulics          6333 non-null object\n",
      "YearMade            6333 non-null int64\n",
      "SalesID             6333 non-null int64\n",
      "dtypes: int64(3), object(5)\n",
      "memory usage: 445.3+ KB\n"
     ]
    },
    {
     "name": "stderr",
     "output_type": "stream",
     "text": [
      "/Users/Chen/anaconda3/lib/python3.6/site-packages/ipykernel_launcher.py:6: SettingWithCopyWarning: \n",
      "A value is trying to be set on a copy of a slice from a DataFrame\n",
      "\n",
      "See the caveats in the documentation: http://pandas.pydata.org/pandas-docs/stable/indexing.html#indexing-view-versus-copy\n",
      "  \n"
     ]
    }
   ],
   "source": [
    "test_df = test_data[[\n",
    "    'datasource', 'fiModelDesc', 'fiBaseModel', 'fiSecondaryDesc', \n",
    "    'fiProductClassDesc', 'state', 'ProductGroup', 'ProductGroupDesc', \n",
    "    'Enclosure', 'Hydraulics', 'YearMade', 'SalesID'\n",
    "]]\n",
    "test_df.dropna(inplace=True)\n",
    "test_df = test_df[['datasource','state','ProductGroup', 'ProductGroupDesc',\n",
    "         'Enclosure', 'Hydraulics', 'YearMade', 'SalesID']]\n",
    "test_df = test_df[test_df['state'] != 'Unspecified']\n",
    "test_df = test_df[test_df['Hydraulics'] != 'None or Unspecified']\n",
    "test_df.info()"
   ]
  },
  {
   "cell_type": "code",
   "execution_count": 201,
   "metadata": {},
   "outputs": [],
   "source": [
    "state= pd.get_dummies(test_df['state'])\n",
    "test_df = test_df.merge(state, left_index = True, right_index = True)\n",
    "datasource= pd.get_dummies(test_df['datasource'])\n",
    "test_df = test_df.merge(datasource, left_index = True, right_index = True)\n",
    "ProductGroup = pd.get_dummies(test_df['ProductGroup'])\n",
    "test_df = test_df.merge(ProductGroup, left_index = True, right_index = True)\n",
    "ProductGroupDesc = pd.get_dummies(test_df['ProductGroupDesc'])\n",
    "test_df = test_df.merge(ProductGroupDesc, left_index = True, right_index = True)\n",
    "Enclosure = pd.get_dummies(test_df['Enclosure'])\n",
    "test_df = test_df.merge(Enclosure, left_index = True, right_index = True)\n",
    "Hydraulics = pd.get_dummies(test_df['Hydraulics'])\n",
    "test_df = test_df.merge(Hydraulics, left_index = True, right_index = True)"
   ]
  },
  {
   "cell_type": "code",
   "execution_count": 202,
   "metadata": {},
   "outputs": [],
   "source": [
    "test_df = test_df.drop('datasource', 1)\n",
    "test_df = test_df.drop('state', 1)\n",
    "test_df = test_df.drop('ProductGroup', 1)\n",
    "test_df = test_df.drop('ProductGroupDesc', 1)\n",
    "test_df = test_df.drop('Enclosure', 1)\n",
    "test_df = test_df.drop('Hydraulics', 1)\n",
    "# df.head()"
   ]
  },
  {
   "cell_type": "code",
   "execution_count": 203,
   "metadata": {},
   "outputs": [
    {
     "data": {
      "text/plain": [
       "Index([           'YearMade',             'SalesID',             'Alabama',\n",
       "                    'Alaska',             'Arizona',            'Arkansas',\n",
       "                'California',            'Colorado',         'Connecticut',\n",
       "                  'Delaware',             'Florida',             'Georgia',\n",
       "                    'Hawaii',               'Idaho',            'Illinois',\n",
       "                   'Indiana',                'Iowa',              'Kansas',\n",
       "                  'Kentucky',           'Louisiana',               'Maine',\n",
       "                  'Maryland',       'Massachusetts',            'Michigan',\n",
       "                 'Minnesota',         'Mississippi',            'Missouri',\n",
       "                   'Montana',            'Nebraska',              'Nevada',\n",
       "             'New Hampshire',          'New Jersey',          'New Mexico',\n",
       "                  'New York',      'North Carolina',        'North Dakota',\n",
       "                      'Ohio',            'Oklahoma',              'Oregon',\n",
       "              'Pennsylvania',         'Puerto Rico',        'Rhode Island',\n",
       "            'South Carolina',        'South Dakota',           'Tennessee',\n",
       "                     'Texas',                'Utah',             'Vermont',\n",
       "                  'Virginia',          'Washington',       'Washington DC',\n",
       "             'West Virginia',           'Wisconsin',             'Wyoming',\n",
       "                         121,                   132,                   136,\n",
       "                         149,                   172,                  'MG',\n",
       "                       'SSL',                 'TEX',                 'TTT',\n",
       "                        'WL',       'Motor Graders',  'Skid Steer Loaders',\n",
       "          'Track Excavators', 'Track Type Tractors',        'Wheel Loader',\n",
       "                     'EROPS',          'EROPS w AC',               'OROPS',\n",
       "                   '2 Valve',             '3 Valve',             '4 Valve',\n",
       "                 'Auxiliary',   'Base + 1 Function',   'Base + 2 Function',\n",
       "         'Base + 3 Function',   'Base + 4 Function',   'Base + 5 Function',\n",
       "         'Base + 6 Function',            'Standard'],\n",
       "      dtype='object')"
      ]
     },
     "execution_count": 203,
     "metadata": {},
     "output_type": "execute_result"
    }
   ],
   "source": [
    "train_columns"
   ]
  },
  {
   "cell_type": "code",
   "execution_count": 204,
   "metadata": {},
   "outputs": [
    {
     "data": {
      "text/plain": [
       "Index([           'YearMade',             'SalesID',             'Alabama',\n",
       "                   'Arizona',            'Arkansas',          'California',\n",
       "                  'Colorado',         'Connecticut',            'Delaware',\n",
       "                   'Florida',             'Georgia',               'Idaho',\n",
       "                  'Illinois',             'Indiana',                'Iowa',\n",
       "                    'Kansas',            'Kentucky',           'Louisiana',\n",
       "                  'Maryland',       'Massachusetts',            'Michigan',\n",
       "                 'Minnesota',         'Mississippi',            'Missouri',\n",
       "                   'Montana',            'Nebraska',              'Nevada',\n",
       "             'New Hampshire',          'New Jersey',          'New Mexico',\n",
       "                  'New York',      'North Carolina',        'North Dakota',\n",
       "                      'Ohio',            'Oklahoma',              'Oregon',\n",
       "              'Pennsylvania',         'Puerto Rico',      'South Carolina',\n",
       "              'South Dakota',           'Tennessee',               'Texas',\n",
       "                      'Utah',            'Virginia',          'Washington',\n",
       "             'West Virginia',           'Wisconsin',             'Wyoming',\n",
       "                         121,                   132,                   149,\n",
       "                         172,                  'MG',                 'SSL',\n",
       "                       'TEX',                 'TTT',                  'WL',\n",
       "             'Motor Graders',  'Skid Steer Loaders',    'Track Excavators',\n",
       "       'Track Type Tractors',        'Wheel Loader',               'EROPS',\n",
       "                'EROPS w AC',               'OROPS',             '2 Valve',\n",
       "                   '3 Valve',             '4 Valve',           'Auxiliary',\n",
       "         'Base + 1 Function',   'Base + 2 Function',   'Base + 3 Function',\n",
       "         'Base + 4 Function',   'Base + 5 Function',   'Base + 6 Function',\n",
       "                  'Standard',              'Alaska',              'Hawaii',\n",
       "                     'Maine',        'Rhode Island',             'Vermont',\n",
       "             'Washington DC',                   136],\n",
       "      dtype='object')"
      ]
     },
     "execution_count": 204,
     "metadata": {},
     "output_type": "execute_result"
    }
   ],
   "source": [
    "train_columns\n",
    "\n",
    "# Drop extra columns\n",
    "for column in test_df.columns:\n",
    "    if column not in train_columns:\n",
    "        test_df.drop(column, axis=1, inplace=True)\n",
    "        \n",
    "# Add missing columns\n",
    "for column in train_columns:\n",
    "    if column not in test_df.columns:\n",
    "        test_df[column] = 0\n",
    "\n",
    "test_df.columns"
   ]
  },
  {
   "cell_type": "code",
   "execution_count": 205,
   "metadata": {},
   "outputs": [
    {
     "data": {
      "text/plain": [
       "((83,), (83,))"
      ]
     },
     "execution_count": 205,
     "metadata": {},
     "output_type": "execute_result"
    }
   ],
   "source": [
    "train_columns.shape, test_df.columns.shape"
   ]
  },
  {
   "cell_type": "markdown",
   "metadata": {},
   "source": [
    "Resort columns and split out SalesID for adding later"
   ]
  },
  {
   "cell_type": "code",
   "execution_count": 206,
   "metadata": {},
   "outputs": [],
   "source": [
    "test_df = test_df[train_columns]\n",
    "SalesID = test_df.pop('SalesID')"
   ]
  },
  {
   "cell_type": "code",
   "execution_count": 207,
   "metadata": {},
   "outputs": [
    {
     "data": {
      "text/html": [
       "<div>\n",
       "<style scoped>\n",
       "    .dataframe tbody tr th:only-of-type {\n",
       "        vertical-align: middle;\n",
       "    }\n",
       "\n",
       "    .dataframe tbody tr th {\n",
       "        vertical-align: top;\n",
       "    }\n",
       "\n",
       "    .dataframe thead th {\n",
       "        text-align: right;\n",
       "    }\n",
       "</style>\n",
       "<table border=\"1\" class=\"dataframe\">\n",
       "  <thead>\n",
       "    <tr style=\"text-align: right;\">\n",
       "      <th></th>\n",
       "      <th>YearMade</th>\n",
       "      <th>Alabama</th>\n",
       "      <th>Alaska</th>\n",
       "      <th>Arizona</th>\n",
       "      <th>Arkansas</th>\n",
       "      <th>California</th>\n",
       "      <th>Colorado</th>\n",
       "      <th>Connecticut</th>\n",
       "      <th>Delaware</th>\n",
       "      <th>Florida</th>\n",
       "      <th>...</th>\n",
       "      <th>3 Valve</th>\n",
       "      <th>4 Valve</th>\n",
       "      <th>Auxiliary</th>\n",
       "      <th>Base + 1 Function</th>\n",
       "      <th>Base + 2 Function</th>\n",
       "      <th>Base + 3 Function</th>\n",
       "      <th>Base + 4 Function</th>\n",
       "      <th>Base + 5 Function</th>\n",
       "      <th>Base + 6 Function</th>\n",
       "      <th>Standard</th>\n",
       "    </tr>\n",
       "  </thead>\n",
       "  <tbody>\n",
       "    <tr>\n",
       "      <th>1</th>\n",
       "      <td>2006</td>\n",
       "      <td>0</td>\n",
       "      <td>0</td>\n",
       "      <td>0</td>\n",
       "      <td>0</td>\n",
       "      <td>0</td>\n",
       "      <td>0</td>\n",
       "      <td>1</td>\n",
       "      <td>0</td>\n",
       "      <td>0</td>\n",
       "      <td>...</td>\n",
       "      <td>0</td>\n",
       "      <td>0</td>\n",
       "      <td>1</td>\n",
       "      <td>0</td>\n",
       "      <td>0</td>\n",
       "      <td>0</td>\n",
       "      <td>0</td>\n",
       "      <td>0</td>\n",
       "      <td>0</td>\n",
       "      <td>0</td>\n",
       "    </tr>\n",
       "    <tr>\n",
       "      <th>3</th>\n",
       "      <td>1000</td>\n",
       "      <td>0</td>\n",
       "      <td>0</td>\n",
       "      <td>0</td>\n",
       "      <td>0</td>\n",
       "      <td>0</td>\n",
       "      <td>0</td>\n",
       "      <td>1</td>\n",
       "      <td>0</td>\n",
       "      <td>0</td>\n",
       "      <td>...</td>\n",
       "      <td>0</td>\n",
       "      <td>0</td>\n",
       "      <td>0</td>\n",
       "      <td>0</td>\n",
       "      <td>0</td>\n",
       "      <td>0</td>\n",
       "      <td>0</td>\n",
       "      <td>0</td>\n",
       "      <td>0</td>\n",
       "      <td>1</td>\n",
       "    </tr>\n",
       "    <tr>\n",
       "      <th>4</th>\n",
       "      <td>2002</td>\n",
       "      <td>0</td>\n",
       "      <td>0</td>\n",
       "      <td>0</td>\n",
       "      <td>0</td>\n",
       "      <td>0</td>\n",
       "      <td>0</td>\n",
       "      <td>0</td>\n",
       "      <td>0</td>\n",
       "      <td>1</td>\n",
       "      <td>...</td>\n",
       "      <td>0</td>\n",
       "      <td>0</td>\n",
       "      <td>0</td>\n",
       "      <td>0</td>\n",
       "      <td>0</td>\n",
       "      <td>0</td>\n",
       "      <td>0</td>\n",
       "      <td>0</td>\n",
       "      <td>0</td>\n",
       "      <td>0</td>\n",
       "    </tr>\n",
       "    <tr>\n",
       "      <th>6</th>\n",
       "      <td>1000</td>\n",
       "      <td>0</td>\n",
       "      <td>0</td>\n",
       "      <td>0</td>\n",
       "      <td>0</td>\n",
       "      <td>0</td>\n",
       "      <td>0</td>\n",
       "      <td>0</td>\n",
       "      <td>0</td>\n",
       "      <td>0</td>\n",
       "      <td>...</td>\n",
       "      <td>0</td>\n",
       "      <td>0</td>\n",
       "      <td>0</td>\n",
       "      <td>0</td>\n",
       "      <td>0</td>\n",
       "      <td>0</td>\n",
       "      <td>0</td>\n",
       "      <td>0</td>\n",
       "      <td>0</td>\n",
       "      <td>0</td>\n",
       "    </tr>\n",
       "    <tr>\n",
       "      <th>7</th>\n",
       "      <td>1000</td>\n",
       "      <td>0</td>\n",
       "      <td>0</td>\n",
       "      <td>0</td>\n",
       "      <td>0</td>\n",
       "      <td>0</td>\n",
       "      <td>0</td>\n",
       "      <td>0</td>\n",
       "      <td>0</td>\n",
       "      <td>0</td>\n",
       "      <td>...</td>\n",
       "      <td>0</td>\n",
       "      <td>0</td>\n",
       "      <td>0</td>\n",
       "      <td>0</td>\n",
       "      <td>0</td>\n",
       "      <td>0</td>\n",
       "      <td>0</td>\n",
       "      <td>0</td>\n",
       "      <td>0</td>\n",
       "      <td>0</td>\n",
       "    </tr>\n",
       "  </tbody>\n",
       "</table>\n",
       "<p>5 rows × 82 columns</p>\n",
       "</div>"
      ],
      "text/plain": [
       "   YearMade  Alabama  Alaska  Arizona  Arkansas  California  Colorado  \\\n",
       "1      2006        0       0        0         0           0         0   \n",
       "3      1000        0       0        0         0           0         0   \n",
       "4      2002        0       0        0         0           0         0   \n",
       "6      1000        0       0        0         0           0         0   \n",
       "7      1000        0       0        0         0           0         0   \n",
       "\n",
       "   Connecticut  Delaware  Florida    ...     3 Valve  4 Valve  Auxiliary  \\\n",
       "1            1         0        0    ...           0        0          1   \n",
       "3            1         0        0    ...           0        0          0   \n",
       "4            0         0        1    ...           0        0          0   \n",
       "6            0         0        0    ...           0        0          0   \n",
       "7            0         0        0    ...           0        0          0   \n",
       "\n",
       "   Base + 1 Function  Base + 2 Function  Base + 3 Function  Base + 4 Function  \\\n",
       "1                  0                  0                  0                  0   \n",
       "3                  0                  0                  0                  0   \n",
       "4                  0                  0                  0                  0   \n",
       "6                  0                  0                  0                  0   \n",
       "7                  0                  0                  0                  0   \n",
       "\n",
       "   Base + 5 Function  Base + 6 Function  Standard  \n",
       "1                  0                  0         0  \n",
       "3                  0                  0         1  \n",
       "4                  0                  0         0  \n",
       "6                  0                  0         0  \n",
       "7                  0                  0         0  \n",
       "\n",
       "[5 rows x 82 columns]"
      ]
     },
     "execution_count": 207,
     "metadata": {},
     "output_type": "execute_result"
    }
   ],
   "source": [
    "test_df.head()"
   ]
  },
  {
   "cell_type": "code",
   "execution_count": 208,
   "metadata": {},
   "outputs": [],
   "source": [
    "test_X = np.array(test_df)"
   ]
  },
  {
   "cell_type": "code",
   "execution_count": 209,
   "metadata": {},
   "outputs": [
    {
     "data": {
      "text/plain": [
       "(6333, 82)"
      ]
     },
     "execution_count": 209,
     "metadata": {},
     "output_type": "execute_result"
    }
   ],
   "source": [
    "test_X.shape"
   ]
  },
  {
   "cell_type": "code",
   "execution_count": 210,
   "metadata": {},
   "outputs": [
    {
     "data": {
      "text/plain": [
       "(6333, 82)"
      ]
     },
     "execution_count": 210,
     "metadata": {},
     "output_type": "execute_result"
    }
   ],
   "source": [
    "test_X.shape"
   ]
  },
  {
   "cell_type": "code",
   "execution_count": 211,
   "metadata": {},
   "outputs": [],
   "source": [
    "pred = lm.predict(test_X)"
   ]
  },
  {
   "cell_type": "code",
   "execution_count": 212,
   "metadata": {},
   "outputs": [
    {
     "data": {
      "text/plain": [
       "(6333,)"
      ]
     },
     "execution_count": 212,
     "metadata": {},
     "output_type": "execute_result"
    }
   ],
   "source": [
    "pred.shape"
   ]
  },
  {
   "cell_type": "code",
   "execution_count": 218,
   "metadata": {},
   "outputs": [],
   "source": [
    "s = np.array(SalesID)"
   ]
  },
  {
   "cell_type": "code",
   "execution_count": 225,
   "metadata": {},
   "outputs": [],
   "source": [
    "results = pd.DataFrame({'SalesID': s, 'SalePrice': pred})\n",
    "results.to_csv('data/SUCCESS.csv')"
   ]
  },
  {
   "cell_type": "code",
   "execution_count": 228,
   "metadata": {},
   "outputs": [
    {
     "data": {
      "text/plain": [
       "0.3221711716548442"
      ]
     },
     "execution_count": 228,
     "metadata": {},
     "output_type": "execute_result"
    }
   ],
   "source": [
    "lm.score(X,y)"
   ]
  },
  {
   "cell_type": "code",
   "execution_count": null,
   "metadata": {},
   "outputs": [],
   "source": []
  }
 ],
 "metadata": {
  "kernelspec": {
   "display_name": "Python 3",
   "language": "python",
   "name": "python3"
  },
  "language_info": {
   "codemirror_mode": {
    "name": "ipython",
    "version": 3
   },
   "file_extension": ".py",
   "mimetype": "text/x-python",
   "name": "python",
   "nbconvert_exporter": "python",
   "pygments_lexer": "ipython3",
   "version": "3.6.5"
  }
 },
 "nbformat": 4,
 "nbformat_minor": 2
}
